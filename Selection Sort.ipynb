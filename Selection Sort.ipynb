{
 "cells": [
  {
   "cell_type": "code",
   "execution_count": 1,
   "metadata": {
    "collapsed": true
   },
   "outputs": [],
   "source": [
    "# Python program for implementation of Selection\n",
    "# Sort\n",
    "import sys\n",
    "A = [64, 25, 12, 22, 11]\n",
    " \n",
    "# Traverse through all array elements\n",
    "for i in range(len(A)):\n",
    "     \n",
    "    # Find the minimum element in remaining \n",
    "    # unsorted array\n",
    "    min_idx = i\n",
    "    for j in range(i+1, len(A)):\n",
    "        if A[min_idx] > A[j]:\n",
    "            min_idx = j\n",
    "             \n",
    "    # Swap the found minimum element with \n",
    "    # the first element        \n",
    "    A[i], A[min_idx] = A[min_idx], A[i]"
   ]
  },
  {
   "cell_type": "code",
   "execution_count": 2,
   "metadata": {
    "collapsed": false
   },
   "outputs": [
    {
     "name": "stdout",
     "output_type": "stream",
     "text": [
      "Sorted array\n",
      "11 12 22 25 64\n"
     ]
    }
   ],
   "source": [
    "# Driver code to test above\n",
    "print (\"Sorted array\")\n",
    "for i in range(len(A)):\n",
    "    print(\"%d\" %A[i]), "
   ]
  },
  {
   "cell_type": "code",
   "execution_count": null,
   "metadata": {
    "collapsed": true
   },
   "outputs": [],
   "source": []
  }
 ],
 "metadata": {
  "kernelspec": {
   "display_name": "Python 2",
   "language": "python",
   "name": "python2"
  },
  "language_info": {
   "codemirror_mode": {
    "name": "ipython",
    "version": 2
   },
   "file_extension": ".py",
   "mimetype": "text/x-python",
   "name": "python",
   "nbconvert_exporter": "python",
   "pygments_lexer": "ipython2",
   "version": "2.7.13"
  }
 },
 "nbformat": 4,
 "nbformat_minor": 2
}
